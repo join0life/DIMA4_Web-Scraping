{
 "cells": [
  {
   "cell_type": "markdown",
   "id": "633f982b-91a5-4046-8cc7-3e668d563051",
   "metadata": {},
   "source": [
    "# Schedule 모듈"
   ]
  },
  {
   "cell_type": "code",
   "execution_count": 1,
   "id": "2006a335-18eb-4dc5-8b9b-59fd00a8f413",
   "metadata": {},
   "outputs": [
    {
     "name": "stdout",
     "output_type": "stream",
     "text": [
      "Collecting schedule\n",
      "  Downloading schedule-1.2.1-py2.py3-none-any.whl.metadata (3.3 kB)\n",
      "Downloading schedule-1.2.1-py2.py3-none-any.whl (11 kB)\n",
      "Installing collected packages: schedule\n",
      "Successfully installed schedule-1.2.1\n"
     ]
    }
   ],
   "source": [
    "!pip install schedule"
   ]
  },
  {
   "cell_type": "markdown",
   "id": "a28d9465-350f-4152-a052-9a2176ff1b44",
   "metadata": {},
   "source": [
    "# Schedule 모듈 활용\n",
    "- while 반복문을 활용하여 꾸준히 스케쥴을 유지\n",
    "- 특정 조건에 맞는 스케쥴이 있을 때마다 해당 함수 실행\n",
    "- 스케쥴 설정 예시\n",
    "    - schedule.every(20).minutes.do(job) : 매 20분 마다 실행\n",
    "    - schedule.every().hour.do(job) : 매 시간 실행 # 값을 안 쓰면 자동으로 1\n",
    "    - schedule.every().day.at('10:30') : 매일 10시 30분에 실행\n",
    "    - schedule.every().monday.do(job) : 매주 월요일 실행\n",
    "    - schedule.every().wednesday.at('13:15').do(job) : 매주 수요일 13:15에 실행"
   ]
  },
  {
   "cell_type": "code",
   "execution_count": 2,
   "id": "2693f220-fea2-41ac-b5a2-d51d7fa7e819",
   "metadata": {},
   "outputs": [
    {
     "name": "stdout",
     "output_type": "stream",
     "text": [
      "2024-4-3 12-47-54\n",
      "2024-4-3 12-47-59\n",
      "2024-4-3 12-48-4\n",
      "2024-4-3 12-48-9\n",
      "2024-4-3 12-48-14\n",
      "2024-4-3 12-48-19\n",
      "2024-4-3 12-48-24\n",
      "2024-4-3 12-48-29\n"
     ]
    },
    {
     "ename": "KeyboardInterrupt",
     "evalue": "",
     "output_type": "error",
     "traceback": [
      "\u001b[1;31m---------------------------------------------------------------------------\u001b[0m",
      "\u001b[1;31mKeyboardInterrupt\u001b[0m                         Traceback (most recent call last)",
      "Cell \u001b[1;32mIn[2], line 11\u001b[0m\n\u001b[0;32m      8\u001b[0m schedule\u001b[38;5;241m.\u001b[39mevery(\u001b[38;5;241m10\u001b[39m)\u001b[38;5;241m.\u001b[39mseconds\u001b[38;5;241m.\u001b[39mdo(job)\n\u001b[0;32m     10\u001b[0m \u001b[38;5;28;01mwhile\u001b[39;00m \u001b[38;5;28;01mTrue\u001b[39;00m:\n\u001b[1;32m---> 11\u001b[0m     schedule\u001b[38;5;241m.\u001b[39mrun_pending()\n",
      "File \u001b[1;32m~\\anaconda3\\Lib\\site-packages\\schedule\\__init__.py:822\u001b[0m, in \u001b[0;36mrun_pending\u001b[1;34m()\u001b[0m\n\u001b[0;32m    818\u001b[0m \u001b[38;5;28;01mdef\u001b[39;00m \u001b[38;5;21mrun_pending\u001b[39m() \u001b[38;5;241m-\u001b[39m\u001b[38;5;241m>\u001b[39m \u001b[38;5;28;01mNone\u001b[39;00m:\n\u001b[0;32m    819\u001b[0m \u001b[38;5;250m    \u001b[39m\u001b[38;5;124;03m\"\"\"Calls :meth:`run_pending <Scheduler.run_pending>` on the\u001b[39;00m\n\u001b[0;32m    820\u001b[0m \u001b[38;5;124;03m    :data:`default scheduler instance <default_scheduler>`.\u001b[39;00m\n\u001b[0;32m    821\u001b[0m \u001b[38;5;124;03m    \"\"\"\u001b[39;00m\n\u001b[1;32m--> 822\u001b[0m     default_scheduler\u001b[38;5;241m.\u001b[39mrun_pending()\n",
      "File \u001b[1;32m~\\anaconda3\\Lib\\site-packages\\schedule\\__init__.py:99\u001b[0m, in \u001b[0;36mScheduler.run_pending\u001b[1;34m(self)\u001b[0m\n\u001b[0;32m     89\u001b[0m \u001b[38;5;250m\u001b[39m\u001b[38;5;124;03m\"\"\"\u001b[39;00m\n\u001b[0;32m     90\u001b[0m \u001b[38;5;124;03mRun all jobs that are scheduled to run.\u001b[39;00m\n\u001b[0;32m     91\u001b[0m \n\u001b[1;32m   (...)\u001b[0m\n\u001b[0;32m     96\u001b[0m \u001b[38;5;124;03mbetween but only once.\u001b[39;00m\n\u001b[0;32m     97\u001b[0m \u001b[38;5;124;03m\"\"\"\u001b[39;00m\n\u001b[0;32m     98\u001b[0m runnable_jobs \u001b[38;5;241m=\u001b[39m (job \u001b[38;5;28;01mfor\u001b[39;00m job \u001b[38;5;129;01min\u001b[39;00m \u001b[38;5;28mself\u001b[39m\u001b[38;5;241m.\u001b[39mjobs \u001b[38;5;28;01mif\u001b[39;00m job\u001b[38;5;241m.\u001b[39mshould_run)\n\u001b[1;32m---> 99\u001b[0m \u001b[38;5;28;01mfor\u001b[39;00m job \u001b[38;5;129;01min\u001b[39;00m \u001b[38;5;28msorted\u001b[39m(runnable_jobs):\n\u001b[0;32m    100\u001b[0m     \u001b[38;5;28mself\u001b[39m\u001b[38;5;241m.\u001b[39m_run_job(job)\n",
      "File \u001b[1;32m~\\anaconda3\\Lib\\site-packages\\schedule\\__init__.py:98\u001b[0m, in \u001b[0;36m<genexpr>\u001b[1;34m(.0)\u001b[0m\n\u001b[0;32m     88\u001b[0m \u001b[38;5;28;01mdef\u001b[39;00m \u001b[38;5;21mrun_pending\u001b[39m(\u001b[38;5;28mself\u001b[39m) \u001b[38;5;241m-\u001b[39m\u001b[38;5;241m>\u001b[39m \u001b[38;5;28;01mNone\u001b[39;00m:\n\u001b[0;32m     89\u001b[0m \u001b[38;5;250m    \u001b[39m\u001b[38;5;124;03m\"\"\"\u001b[39;00m\n\u001b[0;32m     90\u001b[0m \u001b[38;5;124;03m    Run all jobs that are scheduled to run.\u001b[39;00m\n\u001b[0;32m     91\u001b[0m \n\u001b[1;32m   (...)\u001b[0m\n\u001b[0;32m     96\u001b[0m \u001b[38;5;124;03m    between but only once.\u001b[39;00m\n\u001b[0;32m     97\u001b[0m \u001b[38;5;124;03m    \"\"\"\u001b[39;00m\n\u001b[1;32m---> 98\u001b[0m     runnable_jobs \u001b[38;5;241m=\u001b[39m (job \u001b[38;5;28;01mfor\u001b[39;00m job \u001b[38;5;129;01min\u001b[39;00m \u001b[38;5;28mself\u001b[39m\u001b[38;5;241m.\u001b[39mjobs \u001b[38;5;28;01mif\u001b[39;00m job\u001b[38;5;241m.\u001b[39mshould_run)\n\u001b[0;32m     99\u001b[0m     \u001b[38;5;28;01mfor\u001b[39;00m job \u001b[38;5;129;01min\u001b[39;00m \u001b[38;5;28msorted\u001b[39m(runnable_jobs):\n\u001b[0;32m    100\u001b[0m         \u001b[38;5;28mself\u001b[39m\u001b[38;5;241m.\u001b[39m_run_job(job)\n",
      "\u001b[1;31mKeyboardInterrupt\u001b[0m: "
     ]
    }
   ],
   "source": [
    "import schedule\n",
    "import time\n",
    "\n",
    "def job():\n",
    "    now = time.localtime()\n",
    "    print(f'{now.tm_year}-{now.tm_mon}-{now.tm_mday} {now.tm_hour}-{now.tm_min}-{now.tm_sec}')\n",
    "\n",
    "schedule.every(10).seconds.do(job)\n",
    "\n",
    "while True:\n",
    "    schedule.run_pending()"
   ]
  },
  {
   "cell_type": "markdown",
   "id": "9945c492-ec36-4c9b-8adc-4cd5622b56f7",
   "metadata": {},
   "source": [
    "# 시간별 스켑쥴 잡 실행하기"
   ]
  },
  {
   "cell_type": "code",
   "execution_count": null,
   "id": "0f888163-5db7-4378-85ae-5e3a235212da",
   "metadata": {},
   "outputs": [
    {
     "name": "stdout",
     "output_type": "stream",
     "text": [
      "I'm working\n",
      "2024-4-3 14-7-23\n",
      "I'm working\n",
      "2024-4-3 14-8-23\n",
      "I'm working\n",
      "2024-4-3 14-9-23\n"
     ]
    }
   ],
   "source": [
    "import schedule\n",
    "import time\n",
    "\n",
    "def job():\n",
    "    print(\"I'm working\")\n",
    "    now = time.localtime()\n",
    "    print(f'{now.tm_year}-{now.tm_mon}-{now.tm_mday} {now.tm_hour}-{now.tm_min}-{now.tm_sec}')\n",
    "\n",
    "# 매 분 23초마다 job 함수 실행\n",
    "schedule.every().minute.at(':23').do(job)\n",
    "\n",
    "# 매 시간 42분마다 job 함수 실행\n",
    "schedule.every().hour.at(':42').do(job)\n",
    "\n",
    "# 매 5시간째 20분 30초마다 job 함수 실행\n",
    "# 현재 시간이 02:00이면 첫 실행은 6시 20분 30초 \n",
    "schedule.every(5).hours.at('20:30').do(job)\n",
    "\n",
    "# 매일 지정된 시간에 job 함수 실행 \n",
    "schedule.every().day.at('10:30').do(job)\n",
    "\n",
    "# (주의) 월을 의미하는 month 속성은 없음\n",
    "\n",
    "\n",
    "while True:\n",
    "    schedule.run_pending()"
   ]
  },
  {
   "cell_type": "markdown",
   "id": "de51e351-294d-42a9-baae-720fe9c510ba",
   "metadata": {},
   "source": [
    "## 매월 특정일 특정 시간에 job 실행"
   ]
  },
  {
   "cell_type": "code",
   "execution_count": null,
   "id": "859eff79-86c0-4ac9-9997-d5a3176c7529",
   "metadata": {},
   "outputs": [],
   "source": [
    "from datetime import date\n",
    "\n",
    "# 매월 1일 2시에 작업 실행\n",
    "def job():\n",
    "    if date.today().day != 1:\n",
    "        return\n",
    "    # 실제 job 실행 코드 작성\n",
    "\n",
    "schedule.every().day.at('02:00').do(job)"
   ]
  },
  {
   "cell_type": "markdown",
   "id": "1b88a78f-afe4-4146-bc3c-f3c0f5621542",
   "metadata": {},
   "source": [
    "# job 함수에 인수 값 전달"
   ]
  },
  {
   "cell_type": "code",
   "execution_count": null,
   "id": "02c0074e-bc43-41e4-9c0a-6d5c8d5c0e11",
   "metadata": {},
   "outputs": [],
   "source": [
    "import schedule\n",
    "import time\n",
    "\n",
    "def greet(name):\n",
    "    print('Hello', name)\n",
    "    now = time.localtime()\n",
    "    print(f'{now.tm_year}-{now.tm_mon}-{now.tm_mday} {now.tm_hour}-{now.tm_min}-{now.tm_sec}')\n",
    "\n",
    "schedule.every().second.do(greet, name='Alice')\n",
    "\n",
    "while True:\n",
    "    schedule.run_pending()\n",
    "    # sleep(1)을 넣지 않아도 결과는 동일(속도 늦춰주려고 sleep)\n",
    "    # sleep(1)을 넣게 되면 각 반복 사이에 1초의 지연을 도입\n",
    "    time.sleep(1)"
   ]
  },
  {
   "cell_type": "markdown",
   "id": "c908650a-fcc7-4c81-bbe6-5f84f48545a5",
   "metadata": {},
   "source": [
    "# job 실행 취소하기"
   ]
  },
  {
   "cell_type": "code",
   "execution_count": 3,
   "id": "6041ffda-e4f6-402d-9b0a-5933585de74d",
   "metadata": {},
   "outputs": [
    {
     "name": "stdout",
     "output_type": "stream",
     "text": [
      "매 1초마다 스케쥴 1 실행\n",
      "매 1초마다 스케쥴 1 실행\n",
      "매 1초마다 스케쥴 1 실행\n",
      "매 2초마다 스케쥴 2 실행\n",
      "매 1초마다 스케쥴 1 실행\n",
      "매 1초마다 스케쥴 1 실행\n",
      "매 1초마다 스케쥴 1 실행\n",
      "매 1초마다 스케쥴 1 실행\n",
      "매 2초마다 스케쥴 2 실행\n",
      "매 1초마다 스케쥴 1 실행\n",
      "매 1초마다 스케쥴 1 실행\n",
      "매 1초마다 스케쥴 1 실행\n",
      "매 1초마다 스케쥴 1 실행\n",
      "Job(interval=1, unit=seconds, do=message, args=(), kwargs={})\n",
      "매 2초마다 스케쥴 2 실행\n",
      "매 1초마다 스케쥴 1 실행\n",
      "Job(interval=1, unit=seconds, do=message, args=(), kwargs={})\n",
      "매 1초마다 스케쥴 1 실행\n",
      "Job(interval=1, unit=seconds, do=message, args=(), kwargs={})\n",
      "매 2초마다 스케쥴 2 실행\n",
      "매 1초마다 스케쥴 1 실행\n",
      "Job(interval=1, unit=seconds, do=message, args=(), kwargs={})\n",
      "매 1초마다 스케쥴 1 실행\n"
     ]
    },
    {
     "ename": "KeyboardInterrupt",
     "evalue": "",
     "output_type": "error",
     "traceback": [
      "\u001b[1;31m---------------------------------------------------------------------------\u001b[0m",
      "\u001b[1;31mKeyboardInterrupt\u001b[0m                         Traceback (most recent call last)",
      "Cell \u001b[1;32mIn[3], line 16\u001b[0m\n\u001b[0;32m     14\u001b[0m \u001b[38;5;28;01mwhile\u001b[39;00m \u001b[38;5;28;01mTrue\u001b[39;00m:\n\u001b[0;32m     15\u001b[0m     schedule\u001b[38;5;241m.\u001b[39mrun_pending()\n\u001b[1;32m---> 16\u001b[0m     time\u001b[38;5;241m.\u001b[39msleep(\u001b[38;5;241m1\u001b[39m)\n\u001b[0;32m     18\u001b[0m     count \u001b[38;5;241m+\u001b[39m\u001b[38;5;241m=\u001b[39m \u001b[38;5;241m1\u001b[39m\n\u001b[0;32m     19\u001b[0m     \u001b[38;5;28;01mif\u001b[39;00m count \u001b[38;5;241m>\u001b[39m \u001b[38;5;241m5\u001b[39m:\n",
      "\u001b[1;31mKeyboardInterrupt\u001b[0m: "
     ]
    }
   ],
   "source": [
    "import schedule\n",
    "import time\n",
    "\n",
    "def message():\n",
    "    print('매 1초마다 스케쥴 1 실행')\n",
    "\n",
    "def message2():\n",
    "    print('매 2초마다 스케쥴 2 실행')\n",
    "\n",
    "job1 = schedule.every().second.do(message)\n",
    "job2 = schedule.every(2).seconds.do(message2)\n",
    "\n",
    "count = 0\n",
    "while True:\n",
    "    schedule.run_pending()\n",
    "    time.sleep(1)\n",
    "\n",
    "    count += 1\n",
    "    if count > 5:\n",
    "        print(job1)\n",
    "        schedule.cancel_job(job1)\n",
    "        "
   ]
  },
  {
   "cell_type": "markdown",
   "id": "2f9316ae-1199-4759-b01d-36703e87ecab",
   "metadata": {},
   "source": [
    "# 지정된 시간까지 job 실행"
   ]
  },
  {
   "cell_type": "code",
   "execution_count": 4,
   "id": "5ff1bdfb-1a18-486b-9e43-b03a590204d5",
   "metadata": {},
   "outputs": [
    {
     "name": "stdout",
     "output_type": "stream",
     "text": [
      "I'm working\n",
      "2024-4-3 14-42-42\n",
      "I'm working\n",
      "2024-4-3 14-42-43\n",
      "I'm working\n",
      "2024-4-3 14-42-44\n",
      "I'm working\n",
      "2024-4-3 14-42-45\n",
      "I'm working\n",
      "2024-4-3 14-42-46\n"
     ]
    },
    {
     "ename": "KeyboardInterrupt",
     "evalue": "",
     "output_type": "error",
     "traceback": [
      "\u001b[1;31m---------------------------------------------------------------------------\u001b[0m",
      "\u001b[1;31mKeyboardInterrupt\u001b[0m                         Traceback (most recent call last)",
      "Cell \u001b[1;32mIn[4], line 15\u001b[0m\n\u001b[0;32m     13\u001b[0m     \u001b[38;5;28;01mbreak\u001b[39;00m\n\u001b[0;32m     14\u001b[0m schedule\u001b[38;5;241m.\u001b[39mrun_pending()\n\u001b[1;32m---> 15\u001b[0m time\u001b[38;5;241m.\u001b[39msleep(\u001b[38;5;241m1\u001b[39m)\n",
      "\u001b[1;31mKeyboardInterrupt\u001b[0m: "
     ]
    }
   ],
   "source": [
    "import schedule\n",
    "import time\n",
    "\n",
    "def job():\n",
    "    print(\"I'm working\")\n",
    "    now = time.localtime()\n",
    "    print(f'{now.tm_year}-{now.tm_mon}-{now.tm_mday} {now.tm_hour}-{now.tm_min}-{now.tm_sec}')\n",
    "\n",
    "schedule.every().second.until('14:43:00').do(job)\n",
    "\n",
    "while True:\n",
    "    if not schedule.jobs:\n",
    "        break\n",
    "    schedule.run_pending()\n",
    "    time.sleep(1)"
   ]
  }
 ],
 "metadata": {
  "kernelspec": {
   "display_name": "Python 3 (ipykernel)",
   "language": "python",
   "name": "python3"
  },
  "language_info": {
   "codemirror_mode": {
    "name": "ipython",
    "version": 3
   },
   "file_extension": ".py",
   "mimetype": "text/x-python",
   "name": "python",
   "nbconvert_exporter": "python",
   "pygments_lexer": "ipython3",
   "version": "3.11.7"
  }
 },
 "nbformat": 4,
 "nbformat_minor": 5
}
