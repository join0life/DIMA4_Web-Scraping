{
 "cells": [
  {
   "cell_type": "markdown",
   "id": "41ce367e-f975-47d3-89e7-b27445df7671",
   "metadata": {},
   "source": [
    "# 정규식 비사용 vs 사용"
   ]
  },
  {
   "cell_type": "code",
   "execution_count": 1,
   "id": "e08a8987-98a8-4732-aeb8-2bc59d13cfb1",
   "metadata": {},
   "outputs": [],
   "source": [
    "data = \"\"\"\n",
    "park 800904-1234567\n",
    "kim 841204-1234543\n",
    "\"\"\""
   ]
  },
  {
   "cell_type": "code",
   "execution_count": 6,
   "id": "5eb94dce-1d3b-430e-95cb-cfebd10e8f6d",
   "metadata": {},
   "outputs": [
    {
     "name": "stdout",
     "output_type": "stream",
     "text": [
      "park 800904-*******\n",
      "kim 841204-*******\n"
     ]
    }
   ],
   "source": [
    "result = []\n",
    "for line in data.split('\\n'):\n",
    "    word_result = []\n",
    "    for word in line.split():\n",
    "        if len(word)==14 and word[:6].isdigit() and word[7:].isdigit():\n",
    "            word = word[:6] + '-' + '*******'\n",
    "        word_result.append(word)\n",
    "    result.append(' '.join(word_result))\n",
    "print('\\n'.join(result).strip())"
   ]
  },
  {
   "cell_type": "code",
   "execution_count": 8,
   "id": "46316d85-cb9d-4da7-a29c-177df1fff4e5",
   "metadata": {},
   "outputs": [
    {
     "name": "stdout",
     "output_type": "stream",
     "text": [
      "park 800904-*******\n",
      "kim 841204-*******\n"
     ]
    }
   ],
   "source": [
    "import re # 정규표현식 패키지\n",
    "\n",
    "pat = re.compile('(\\d{6})[-]\\d{7}') # 패턴을 만듦\n",
    "print(pat.sub(r'\\1-*******', data).strip()) # 패턴의 첫 번째 그룹은 그대로 사용 "
   ]
  },
  {
   "cell_type": "markdown",
   "id": "e2de445c-ceca-4b95-80b7-febbf6a856d1",
   "metadata": {},
   "source": [
    "# 문자열 검색"
   ]
  },
  {
   "cell_type": "code",
   "execution_count": 10,
   "id": "8399480e-0264-45f8-b471-dd103801ecb0",
   "metadata": {},
   "outputs": [],
   "source": [
    "import re\n",
    "\n",
    "p = re.compile('[a-z]+') # 알파벳 소문자 1개 이상"
   ]
  },
  {
   "cell_type": "markdown",
   "id": "f91669cc-9fea-4bb8-a154-f1ed11d01870",
   "metadata": {},
   "source": [
    "## match()\n",
    "- 문자열의 처음부터 정규식과 매치되는지 조사"
   ]
  },
  {
   "cell_type": "code",
   "execution_count": 14,
   "id": "0fa26cb1-9a02-48bd-824c-9cd6bb0c105c",
   "metadata": {},
   "outputs": [
    {
     "name": "stdout",
     "output_type": "stream",
     "text": [
      "<re.Match object; span=(0, 6), match='python'>\n",
      "<re.Match object; span=(0, 1), match='p'>\n",
      "None\n",
      "Match found: python\n"
     ]
    }
   ],
   "source": [
    "m1 = p.match('python')\n",
    "print(m1)\n",
    "\n",
    "m2 = p.match('pYthon')\n",
    "print(m2)\n",
    "\n",
    "m3 = p.match('3 python')\n",
    "print(m3)\n",
    "\n",
    "if m1:\n",
    "    print('Match found:', m1.group()) #group() : 매치된 문자열 반환\n",
    "else:\n",
    "    print('Not Match')"
   ]
  },
  {
   "cell_type": "markdown",
   "id": "37612ed5-a767-4391-8520-99b090ec1c02",
   "metadata": {},
   "source": [
    "## search()\n",
    "- 문자열 전체를 검색하여 처음으로 매치되는 문자열을 찾는다."
   ]
  },
  {
   "cell_type": "code",
   "execution_count": 15,
   "id": "eebca651-7b72-4a47-93ff-9df76e44f440",
   "metadata": {},
   "outputs": [
    {
     "name": "stdout",
     "output_type": "stream",
     "text": [
      "<re.Match object; span=(2, 8), match='python'>\n"
     ]
    }
   ],
   "source": [
    "m = p.search('3 python')\n",
    "print(m)"
   ]
  },
  {
   "cell_type": "markdown",
   "id": "40184b47-bc1e-4180-bd49-3ef365c81f68",
   "metadata": {},
   "source": [
    "[문제] 전화번호 추출하기  \n",
    "다음의 전화번호 데이터에서 전화번호만 추출하는 정규표현식을 작성하세요."
   ]
  },
  {
   "cell_type": "code",
   "execution_count": 20,
   "id": "9bad5d11-0d33-4f37-a35f-7b70461fc486",
   "metadata": {},
   "outputs": [
    {
     "name": "stdout",
     "output_type": "stream",
     "text": [
      "010-1234-5555\n",
      "02-555-3333\n"
     ]
    }
   ],
   "source": [
    "phone = ['홍길동:010-1234-5555','우리집, 02-555-3333']\n",
    "\n",
    "pat = re.compile('\\d{2,3}-\\d{3,4}-\\d{4}') # '[0-9]{2,3}...'\n",
    "for p in phone:\n",
    "    m = pat.search(p)\n",
    "    print(m.group())"
   ]
  },
  {
   "cell_type": "markdown",
   "id": "b59fda3d-5cd4-4c9d-a932-3a7cf4a07ebe",
   "metadata": {},
   "source": [
    "## findall()\n",
    "- 정규식과 매치되는 모든 문자열을 찾아 리스트로 반환한다."
   ]
  },
  {
   "cell_type": "code",
   "execution_count": 22,
   "id": "710ffded-61fe-454d-b134-204e03fece80",
   "metadata": {},
   "outputs": [
    {
     "name": "stdout",
     "output_type": "stream",
     "text": [
      "['life', 'is', 'too', 'short']\n"
     ]
    }
   ],
   "source": [
    "result = re.findall('[a-z]+', 'life is too short')\n",
    "print(result)"
   ]
  },
  {
   "cell_type": "markdown",
   "id": "a87dc523-8a94-4b5d-a438-36abae02307f",
   "metadata": {},
   "source": [
    "# Match 객체 함수"
   ]
  },
  {
   "cell_type": "code",
   "execution_count": 3,
   "id": "67b44080-e889-4536-b273-ff53e628c291",
   "metadata": {},
   "outputs": [
    {
     "name": "stdout",
     "output_type": "stream",
     "text": [
      "python\n",
      "0\n",
      "6\n",
      "(0, 6)\n"
     ]
    }
   ],
   "source": [
    "import re\n",
    "\n",
    "p = re.compile('[a-z]+')\n",
    "m = p.search('python')\n",
    "\n",
    "print(m.group())\n",
    "print(m.start())\n",
    "print(m.end())\n",
    "print(m.span()) # 튜플"
   ]
  },
  {
   "cell_type": "markdown",
   "id": "a5c11026-b1e6-48ff-baee-e05b849d8214",
   "metadata": {},
   "source": [
    "# 컴파일 옵션"
   ]
  },
  {
   "cell_type": "markdown",
   "id": "2e72e9dd-079f-467a-bc19-14b098285f39",
   "metadata": {},
   "source": [
    "## DOTALL\n",
    "- dot(.) 메타 문자가 줄바꿈 문자(\\n)를 포함하여 모든 문자와 일치한다."
   ]
  },
  {
   "cell_type": "code",
   "execution_count": 6,
   "id": "966e4ef9-d731-42ee-82b5-e1eb0cd49020",
   "metadata": {},
   "outputs": [
    {
     "name": "stdout",
     "output_type": "stream",
     "text": [
      "None\n",
      "<re.Match object; span=(0, 3), match='a\\nb'>\n"
     ]
    }
   ],
   "source": [
    "m = re.match('a.b','a\\nb')\n",
    "print(m)\n",
    "\n",
    "p=re.compile('a.b', re.DOTALL)\n",
    "m = p.match('a\\nb')\n",
    "print(m)"
   ]
  },
  {
   "cell_type": "code",
   "execution_count": 30,
   "id": "76dd9037-e941-4724-96da-02d3cc2ae5d8",
   "metadata": {},
   "outputs": [
    {
     "name": "stdout",
     "output_type": "stream",
     "text": [
      "<re.Match object; span=(0, 12), match='hello\\npython'>\n"
     ]
    }
   ],
   "source": [
    "s = '''hello\n",
    "python'''\n",
    "p = re.compile('hello.python', re.DOTALL)\n",
    "print(p.match(s))"
   ]
  },
  {
   "cell_type": "markdown",
   "id": "4db52f47-3134-4206-88a2-feceb813e22c",
   "metadata": {},
   "source": [
    "## IGNORECASE\n",
    "- 대소문자에 관계 없이 일치한다."
   ]
  },
  {
   "cell_type": "code",
   "execution_count": 31,
   "id": "a96418a1-b5f6-4081-ae3b-ae264df24a1b",
   "metadata": {},
   "outputs": [
    {
     "name": "stdout",
     "output_type": "stream",
     "text": [
      "<re.Match object; span=(0, 6), match='python'>\n",
      "<re.Match object; span=(0, 6), match='PYTHON'>\n"
     ]
    }
   ],
   "source": [
    "p = re.compile('[a-z]+', re.IGNORECASE)\n",
    "print(p.match('python'))\n",
    "print(p.match('PYTHON'))"
   ]
  },
  {
   "cell_type": "markdown",
   "id": "f71e3583-3ba1-4a52-bf4d-6ef128fceecd",
   "metadata": {},
   "source": [
    "## MULTILINE \n",
    "- 여러 줄의 문자열에 대해 ^,$ 메타 문자를 적용할 수 있다."
   ]
  },
  {
   "cell_type": "code",
   "execution_count": 32,
   "id": "bbcce216-fe9d-4e78-82e7-fc9766c58061",
   "metadata": {},
   "outputs": [
    {
     "name": "stdout",
     "output_type": "stream",
     "text": [
      "['python one']\n"
     ]
    }
   ],
   "source": [
    "p = re.compile('^python\\s\\w+')\n",
    "text = '''python one\n",
    "Life is too short\n",
    "python two\n",
    "you need python\n",
    "python 3'''\n",
    "m = p.findall(text)\n",
    "print(m)"
   ]
  },
  {
   "cell_type": "code",
   "execution_count": 33,
   "id": "534b4886-0ad3-4847-8af1-bdf0729c344e",
   "metadata": {},
   "outputs": [
    {
     "name": "stdout",
     "output_type": "stream",
     "text": [
      "['python one', 'python two', 'python\\npython']\n"
     ]
    }
   ],
   "source": [
    "p = re.compile('python\\s\\w+')\n",
    "text = '''python one\n",
    "Life is too short\n",
    "python two\n",
    "you need python\n",
    "python 3'''\n",
    "m = p.findall(text)\n",
    "print(m)"
   ]
  },
  {
   "cell_type": "code",
   "execution_count": 34,
   "id": "37cb0d9f-8083-454b-941c-118798fb8e31",
   "metadata": {},
   "outputs": [
    {
     "name": "stdout",
     "output_type": "stream",
     "text": [
      "['python one', 'python two', 'python 3']\n"
     ]
    }
   ],
   "source": [
    "# MULTILINE 은 ^,$ 메타 문자를 문자열의 각 줄마다 적\n",
    "p = re.compile('^python\\s\\w+', re.MULTILINE)\n",
    "text = '''python one\n",
    "Life is too short\n",
    "python two\n",
    "you need python\n",
    "python 3'''\n",
    "m = p.findall(text)\n",
    "print(m)"
   ]
  },
  {
   "cell_type": "markdown",
   "id": "ae3352a4-5bc8-415e-9949-2b897dfd87a0",
   "metadata": {},
   "source": [
    "# 백슬래시 문제"
   ]
  },
  {
   "cell_type": "code",
   "execution_count": 36,
   "id": "ceda38e4-6504-42d6-820c-799df0ebfd84",
   "metadata": {},
   "outputs": [
    {
     "name": "stdout",
     "output_type": "stream",
     "text": [
      "None\n",
      "<re.Match object; span=(8, 16), match='\\\\section'>\n"
     ]
    }
   ],
   "source": [
    "import re\n",
    "\n",
    "p = re.compile('\\\\section') # \\section 으로 해석된 문자열이 전달되어 [\\t\\n\\r\\f\\v]ection과 같은 의미로 해석\n",
    "m = p.search('What is \\section and example?')\n",
    "print(m)\n",
    "\n",
    "p = re.compile(r'\\\\section') # \\section 으로 해석된 문자열이 전달되어 [\\t\\n\\r\\f\\v]ection과 같은 의미로 해석\n",
    "m = p.search('What is \\section and example?')\n",
    "print(m)"
   ]
  },
  {
   "cell_type": "markdown",
   "id": "b60ccbc8-6f32-41e5-b309-4dcf2195dcea",
   "metadata": {},
   "source": [
    "# 메타문자 "
   ]
  },
  {
   "cell_type": "markdown",
   "id": "b1864986-5eb7-41c7-91d7-c0025512faa6",
   "metadata": {},
   "source": [
    "## |\n",
    "- or의 의미"
   ]
  },
  {
   "cell_type": "code",
   "execution_count": 37,
   "id": "e9452164-feeb-4af1-8cff-f2155e2f1161",
   "metadata": {},
   "outputs": [
    {
     "name": "stdout",
     "output_type": "stream",
     "text": [
      "<re.Match object; span=(0, 5), match='Servo'>\n"
     ]
    }
   ],
   "source": [
    "import re\n",
    "\n",
    "p = re.compile('Crow|Servo')\n",
    "m = p.match('ServoHello')\n",
    "print(m)"
   ]
  },
  {
   "cell_type": "markdown",
   "id": "bc16f22a-4fa8-410e-b323-ab9c0afb4d8b",
   "metadata": {},
   "source": [
    "## \\A\n",
    "- 문자열의 처음과 일치함을 의미\n",
    "- MULTILINE 옵션 안먹힘"
   ]
  },
  {
   "cell_type": "code",
   "execution_count": 38,
   "id": "36473087-aa03-4d0f-9914-470aa6b6af8c",
   "metadata": {},
   "outputs": [
    {
     "name": "stdout",
     "output_type": "stream",
     "text": [
      "['python one']\n"
     ]
    }
   ],
   "source": [
    "p = re.compile('\\Apython\\s\\w+', re.MULTILINE)\n",
    "text = '''python one\n",
    "Life is too short\n",
    "python two\n",
    "you need python\n",
    "python 3'''\n",
    "m = p.findall(text)\n",
    "print(m)"
   ]
  },
  {
   "cell_type": "markdown",
   "id": "040e24db-86c8-464b-aafe-d15f3cca2d40",
   "metadata": {},
   "source": [
    "## \\b\n",
    "- 단어 경계를 나타낸다.\n",
    "- 공백으로 구분된 단어를 찾는다.\n",
    "- \\s는 공백을 포함하는지를 검사\n",
    "- raw string 문자(r)를 붙여줘야 함"
   ]
  },
  {
   "cell_type": "code",
   "execution_count": 46,
   "id": "b7596c79-147c-4aa9-9720-1ae0afcaa569",
   "metadata": {},
   "outputs": [
    {
     "name": "stdout",
     "output_type": "stream",
     "text": [
      "<re.Match object; span=(2, 9), match=' class '>\n",
      "None\n"
     ]
    }
   ],
   "source": [
    "# p = re.compile(r'\\bclass\\b') # 공백을 포함하지 않고 매치 결과 반환\n",
    "p = re.compile(r'\\sclass\\s') # class 단어 앞뒤에 공백이 있으면 매치, 공백을 포함해서 매치 결과 반환\n",
    "print(p.search('no class at all'))\n",
    "print(p.search('class at all'))"
   ]
  },
  {
   "cell_type": "code",
   "execution_count": 45,
   "id": "26c0933c-caa3-4e94-8c81-a09840fd65d2",
   "metadata": {},
   "outputs": [
    {
     "name": "stdout",
     "output_type": "stream",
     "text": [
      "<re.Match object; span=(9, 12), match='dog'>\n"
     ]
    }
   ],
   "source": [
    "# dog라는 독립된 단어를 찾는다.\n",
    "# \\b는 단어문자와 비단어 문자 사이의 경계를 의미\n",
    "m = re.search(r'\\bdog\\b', 'I have a dog.')\n",
    "print(m)"
   ]
  },
  {
   "cell_type": "code",
   "execution_count": 48,
   "id": "87cabe4a-8c88-48be-abb4-e57ce4c4abfb",
   "metadata": {},
   "outputs": [
    {
     "name": "stdout",
     "output_type": "stream",
     "text": [
      "<re.Match object; span=(6, 8), match='단어'>\n"
     ]
    }
   ],
   "source": [
    "p = re.compile(r'\\b단어\\b')\n",
    "print(p.search('한글에서 \"단어\"문자 찾기'))"
   ]
  },
  {
   "cell_type": "markdown",
   "id": "86dc6e4b-8537-46e9-ad32-3c558a801166",
   "metadata": {},
   "source": [
    "## \\\n",
    "- 정규표현식에서 사용하는 문자 그대로 표현하려면 앞에 \\를 붙임\n",
    "- 즉, 문자열 안에 포함된 메타 문자(.?$ 등)을 원래 문자로 사용"
   ]
  },
  {
   "cell_type": "code",
   "execution_count": 50,
   "id": "e1ba1a5c-4272-44d5-a434-d8db7b12280f",
   "metadata": {},
   "outputs": [
    {
     "name": "stdout",
     "output_type": "stream",
     "text": [
      "<re.Match object; span=(5, 11), match='안녕하세요?'>\n"
     ]
    }
   ],
   "source": [
    "m = re.search('안녕하세요\\?','여러분, 안녕하세요?')\n",
    "print(m)"
   ]
  },
  {
   "cell_type": "markdown",
   "id": "c9158fc9-2731-41bb-9d1a-1f6d6af9f48a",
   "metadata": {},
   "source": [
    "# 그룹핑"
   ]
  },
  {
   "cell_type": "code",
   "execution_count": 55,
   "id": "6de4facb-f372-4296-abd1-fcff1cb189a3",
   "metadata": {},
   "outputs": [
    {
     "name": "stdout",
     "output_type": "stream",
     "text": [
      "<re.Match object; span=(0, 12), match='ABCABCABCABC'>\n",
      "ABCABCABCABC\n",
      "ABC\n"
     ]
    }
   ],
   "source": [
    "import re\n",
    "\n",
    "p = re.compile('(ABC)+') # 괄호가 없는 ABC+ 는 ABC 또는 ABCCC..., 괄호가 있는 (ABC)+는 ABCABCABC..\n",
    "m = p.search('ABCABCABCABC OK?')\n",
    "print(m)\n",
    "print(m.group(0)) # 일치된 전체 문자열 or m.group()과 동일\n",
    "print(m.group(1)) # 첫 번째 그룹에 해당하는 문자열"
   ]
  },
  {
   "cell_type": "code",
   "execution_count": 61,
   "id": "d3d18799-a03b-4a0a-a2c9-3941723d72d1",
   "metadata": {},
   "outputs": [
    {
     "name": "stdout",
     "output_type": "stream",
     "text": [
      "park 010-1234-5678\n",
      "park\n",
      "010-1234-5678\n"
     ]
    }
   ],
   "source": [
    "p = re.compile('(\\w+)\\s+(\\d+[-]\\d+[-]\\d+)')\n",
    "m = p.search('park 010-1234-5678')\n",
    "print(m.group(0))\n",
    "print(m.group(1))\n",
    "print(m.group(2))"
   ]
  },
  {
   "cell_type": "code",
   "execution_count": 63,
   "id": "3e4e703d-308e-4f5c-9929-b871225bf534",
   "metadata": {},
   "outputs": [
    {
     "name": "stdout",
     "output_type": "stream",
     "text": [
      "010\n"
     ]
    }
   ],
   "source": [
    "# 그룹이 중첩된 경우 바깥쪽부터 시작해서 안쪽으로 들어갈수록 인덱스가 증가한다.\n",
    "p = re.compile('(\\w+)\\s+((\\d+)[-]\\d+[-]\\d+)')\n",
    "m = p.search('park 010-1234-5678')\n",
    "print(m.group(3)) "
   ]
  },
  {
   "cell_type": "markdown",
   "id": "555236b7-dd6d-45ba-89c3-6c15717c70c5",
   "metadata": {},
   "source": [
    "- '\\번호'를 이용한 그룹 재참조"
   ]
  },
  {
   "cell_type": "code",
   "execution_count": 1,
   "id": "b3df43ce-4f09-4eb7-aca6-cc8852ab6b48",
   "metadata": {},
   "outputs": [
    {
     "data": {
      "text/plain": [
       "<re.Match object; span=(0, 4), match='abab'>"
      ]
     },
     "execution_count": 1,
     "metadata": {},
     "output_type": "execute_result"
    }
   ],
   "source": [
    "import re \n",
    "re.match(r'(a)(b)\\1\\2', 'abab') #abab"
   ]
  },
  {
   "cell_type": "markdown",
   "id": "830f2f99-2447-4ccc-8f20-6ae7f0f3e736",
   "metadata": {},
   "source": [
    "- 동일한 단어가 연속적으로 사용된 문자열 찾기"
   ]
  },
  {
   "cell_type": "code",
   "execution_count": 2,
   "id": "76f5509f-347b-4bf4-9401-98b92f67c37a",
   "metadata": {},
   "outputs": [
    {
     "data": {
      "text/plain": [
       "'dog dog'"
      ]
     },
     "execution_count": 2,
     "metadata": {},
     "output_type": "execute_result"
    }
   ],
   "source": [
    "# \\b(\\w+)\\b : 단어 경계를 기준으로 한 단어를 찾는다.\n",
    "# \\s+ : 하나 이상의 공백 문자를 찾는다.\n",
    "# \\b\\1\\b : 단어 경계를 기준으로 한 단어를 찾으며, 그룹 참조를 통해 이전에 그룹화된 단어와 동일한 단어를 찾는다.\n",
    "p = re.compile(r'\\b(\\w+)\\b\\s+\\b\\1\\b')\n",
    "p.search('I have a dog dog in my house').group()"
   ]
  },
  {
   "cell_type": "code",
   "execution_count": 5,
   "id": "f9fbad41-5f76-48eb-bfcc-95edd26104f1",
   "metadata": {},
   "outputs": [
    {
     "name": "stdout",
     "output_type": "stream",
     "text": [
      "park 010-1234-5678\n",
      "park\n"
     ]
    }
   ],
   "source": [
    "# 그룹에 이름 붙이기 : (?P<그룹 이름>)\n",
    "p = re.compile('(?P<name>\\w+)\\s+(\\d+[-]\\d+[-]\\d+)')\n",
    "m = p.search('park 010-1234-5678')\n",
    "print(m.group())\n",
    "print(m.group('name'))"
   ]
  },
  {
   "cell_type": "markdown",
   "id": "a14c3ee1-5c92-43b2-982d-5341652e520c",
   "metadata": {},
   "source": [
    "# 전방탐색/후방탐색"
   ]
  },
  {
   "cell_type": "markdown",
   "id": "94379d21-b116-4740-9d67-cea1d98511f5",
   "metadata": {},
   "source": [
    "## 긍정 전방 탐색"
   ]
  },
  {
   "cell_type": "code",
   "execution_count": 12,
   "id": "b3c9de58-19c3-4fba-83e6-f23e0c20640a",
   "metadata": {},
   "outputs": [
    {
     "name": "stdout",
     "output_type": "stream",
     "text": [
      "http\n"
     ]
    }
   ],
   "source": [
    "import re\n",
    "\n",
    "# 어떤 문자든 하나 이상 반복되고 그 다음에 ':'문자가 나오면 일치됨\n",
    "#  : 문자는 매치 결과로 반환하지 않는다.\n",
    "# URL에서 프로토콜 이름만 검색\n",
    "# p = re.compile('.+:')\n",
    "p = re.compile('.+(?=:)') # .(dot) -> 모든 문자와 일치됨\n",
    "m = p.search('http://www.google.com')\n",
    "print(m.group())"
   ]
  },
  {
   "cell_type": "markdown",
   "id": "5b7e7bfc-b349-4283-9d07-b8e20367e2a1",
   "metadata": {},
   "source": [
    "## 부정 전방 탐색"
   ]
  },
  {
   "cell_type": "code",
   "execution_count": 13,
   "id": "74294d9d-d48e-4f39-8d8a-837be630a00c",
   "metadata": {},
   "outputs": [
    {
     "name": "stdout",
     "output_type": "stream",
     "text": [
      "python.exe\n",
      "sysinfo.cf\n"
     ]
    }
   ],
   "source": [
    "# 파일 이름의 확장자 중 bat 파일만 제외하고 추출하기\n",
    "file_names = ['autoexe.bat','python.exe','sysinfo.cf']\n",
    "p = re.compile('[a-zA-Z]+\\w*[.](?!bat)[a-zA-Z]+') # 파일 이름은 숫자로 시작할 수 없기 때문에 \\w*로 시작할 수 없음\n",
    "for file_name in file_names:\n",
    "    m = p.search(file_name)\n",
    "    if m:\n",
    "        print(m.group()) # None인 객체를 가지고 그룹을 만들면 안되기 때문에 if문으로 만들어줌"
   ]
  },
  {
   "cell_type": "markdown",
   "id": "5c420842-d81e-467a-be93-e86cb11d7fb6",
   "metadata": {},
   "source": [
    "## 후방 긍정 탐색"
   ]
  },
  {
   "cell_type": "code",
   "execution_count": 14,
   "id": "17f1e9e7-e86c-43a9-b1df-54e3168bcce9",
   "metadata": {},
   "outputs": [
    {
     "name": "stdout",
     "output_type": "stream",
     "text": [
      "23.45\n"
     ]
    }
   ],
   "source": [
    "# $는 문자열의 끝과 일치함을 나타내는 메타 문자여서 $ 문자로 인식되기 위해 앞에 \\를 붙여줌\n",
    "p = re.compile('(?<=\\$)[0-9]+[.][0-9]+')\n",
    "m = p.search('ABC01: $23.45')\n",
    "print(m.group())"
   ]
  },
  {
   "cell_type": "markdown",
   "id": "6a3fcfa4-694e-4bed-a250-ba8407a0c131",
   "metadata": {},
   "source": [
    "# 문자열 바꾸기"
   ]
  },
  {
   "cell_type": "code",
   "execution_count": 16,
   "id": "cee5b011-303f-42bd-85ba-9c2887baf6ad",
   "metadata": {},
   "outputs": [
    {
     "data": {
      "text/plain": [
       "'color socks and color shoes'"
      ]
     },
     "execution_count": 16,
     "metadata": {},
     "output_type": "execute_result"
    }
   ],
   "source": [
    "p = re.compile('blue|white|red')\n",
    "p.sub('color', 'blue socks and red shoes') #, count = 1)"
   ]
  },
  {
   "cell_type": "markdown",
   "id": "a5020e5d-22a3-4671-abfa-91a4b8f046e7",
   "metadata": {},
   "source": [
    "[실습] 이메일 형식 검증"
   ]
  },
  {
   "cell_type": "code",
   "execution_count": 22,
   "id": "2bcbfae4-f776-4b85-a4f8-b39071682de3",
   "metadata": {},
   "outputs": [
    {
     "name": "stdout",
     "output_type": "stream",
     "text": [
      "mysite.com : invalid email\n",
      "mike@korea.com : valid email\n",
      "mike@naver.com : valid email\n",
      "mike.lee@google.com : valid email\n",
      "mike@google : invalid email\n"
     ]
    }
   ],
   "source": [
    "import re\n",
    "\n",
    "def valid_email(email):\n",
    "    regex = '[a-zA-Z]+\\w*[.]?\\w+[@]\\w+[.]\\w+[.]?\\w{2,3}'\n",
    "    valid = re.search(regex, email) #re.search(패턴, 문자열)\n",
    "\n",
    "    if valid:\n",
    "        print('valid email')\n",
    "    else:\n",
    "        print('invalid email')\n",
    "\n",
    "email = 'mysite.com'\n",
    "print(email, end =' : ')\n",
    "valid_email(email)\n",
    "\n",
    "email = 'mike@korea.com'\n",
    "print(email, end =' : ')\n",
    "valid_email(email)\n",
    "\n",
    "email = 'mike@naver.com'\n",
    "print(email, end =' : ')\n",
    "valid_email(email)\n",
    "\n",
    "email = 'mike.lee@google.com'\n",
    "print(email, end =' : ')\n",
    "valid_email(email)\n",
    "\n",
    "email = 'mike@google'\n",
    "print(email, end =' : ')\n",
    "valid_email(email)"
   ]
  },
  {
   "cell_type": "markdown",
   "id": "3bdce86f-4071-4571-a9be-84908ee19e41",
   "metadata": {},
   "source": [
    "[실습] 한글 찾기 / 한글 제거"
   ]
  },
  {
   "cell_type": "code",
   "execution_count": 23,
   "id": "4d420228-5293-4e9e-8185-38c22d47eac9",
   "metadata": {},
   "outputs": [
    {
     "name": "stdout",
     "output_type": "stream",
     "text": [
      "['good', 'morning']\n"
     ]
    }
   ],
   "source": [
    "s = '한글이에요. good morning. 안녕하세요'\n",
    "# m = re.findall('[ㄱ-힣]+', s)\n",
    "m = re.findall('[a-zA-Z]+', s)\n",
    "print(m)"
   ]
  },
  {
   "cell_type": "markdown",
   "id": "c7315d79-bdc1-45cd-8392-07c326bd3b71",
   "metadata": {},
   "source": [
    "[문제] 입력 받은 주민번호의 유효성 검증하기\n",
    "- 키보드로 입력 받은 주민번호의 유효성을 검증하여 그 결과를 출력한다.\n",
    "- 931231-1234567"
   ]
  },
  {
   "cell_type": "code",
   "execution_count": null,
   "id": "e8b34814-2d23-4652-a0ed-95cb1354b086",
   "metadata": {},
   "outputs": [],
   "source": [
    "import re\n",
    "\n",
    "jumin = input('주민번호 입력: ')\n",
    "# p = re.compile('\\d{6}-\\d{7}(?!\\d+)')\n",
    "p = re.compile('\\d{2}(0[0-9]|1[0-2])(0[1-9|1[0-9]|2[0-9]|3[0-1])-[1-4]\\d{6}(?!\\d+)')\n",
    "m = p.match(jumin)\n",
    "if m:\n",
    "    print('유효한 주민번호 형식입니다.')\n",
    "else:\n",
    "    print('유효하지 않은 주민번호 형식입니다.')"
   ]
  }
 ],
 "metadata": {
  "kernelspec": {
   "display_name": "Python 3 (ipykernel)",
   "language": "python",
   "name": "python3"
  },
  "language_info": {
   "codemirror_mode": {
    "name": "ipython",
    "version": 3
   },
   "file_extension": ".py",
   "mimetype": "text/x-python",
   "name": "python",
   "nbconvert_exporter": "python",
   "pygments_lexer": "ipython3",
   "version": "3.11.7"
  }
 },
 "nbformat": 4,
 "nbformat_minor": 5
}
